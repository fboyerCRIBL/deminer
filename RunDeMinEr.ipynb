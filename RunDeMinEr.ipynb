{
 "cells": [
  {
   "cell_type": "markdown",
   "metadata": {},
   "source": [
    "# Using DeMinEr to identify base substitutions at low frequency"
   ]
  },
  {
   "cell_type": "markdown",
   "metadata": {},
   "source": [
    "DeMinEr is a worflow to efficiently infer somatic mutation statistics within a sequenced region. Error-correction is performed with the use of mutation-free control samples (2) that provides an accurate and reproducible sequencing error baseline (position- and nucleotide-wise). Nucleotide counts (test and mutation-free control samples) are required as csv tabular files (sep=';') in the nucleotideCounts sub-directory. Working directory should contain the  Python source files (DeMinEr.py and DeMinErReport.py) and the reference sequence fasta file (gene.fasta)."
   ]
  },
  {
   "cell_type": "markdown",
   "metadata": {},
   "source": [
    "## Run DeMinEr step-by-step"
   ]
  },
  {
   "cell_type": "markdown",
   "metadata": {},
   "source": [
    "(Required packages : os, re, biopython, numpy, matplotlib)"
   ]
  },
  {
   "cell_type": "markdown",
   "metadata": {},
   "source": [
    "### Load useful packages and functions, define test and control samples, gene and region"
   ]
  },
  {
   "cell_type": "code",
   "execution_count": null,
   "metadata": {
    "collapsed": false
   },
   "outputs": [],
   "source": [
    "from DeMinEr import *\n",
    "%matplotlib inline\n",
    "\n",
    "sample='WT-GC'\n",
    "sample_Ctrl1='AID-1'\n",
    "sample_Ctrl2='AID-2'\n",
    "gene='Cd83m'\n",
    "#region is range included in [0:length(gene)]; used to crop analyzed regions to uniformly sequenced regions (in depth)\n",
    "region=range(100,1000,1) "
   ]
  },
  {
   "cell_type": "markdown",
   "metadata": {},
   "source": [
    "### Identify AID hotspots on target sequence"
   ]
  },
  {
   "cell_type": "code",
   "execution_count": null,
   "metadata": {
    "collapsed": false
   },
   "outputs": [],
   "source": [
    "(HotSpot_start_fw,HotSpot_start_rv) = getHotspots(gene)\n",
    "HotSpotsregion=[i for i in set(HotSpot_start_fw+HotSpot_start_rv) if i in region]"
   ]
  },
  {
   "cell_type": "markdown",
   "metadata": {},
   "source": [
    "### Compute alternative (non-reference) nucleotide frequencies and counts in sample (raw) and both controls"
   ]
  },
  {
   "cell_type": "code",
   "execution_count": null,
   "metadata": {
    "collapsed": false
   },
   "outputs": [],
   "source": [
    "Test,Testd=getAltFreq(sample,gene)\n",
    "CTRL1,CTRL1d=getAltFreq(sample_Ctrl1,gene)\n",
    "CTRL2,CTRL2d=getAltFreq(sample_Ctrl2,gene)\n",
    "Mutcounts=Test*np.transpose([Testd,Testd,Testd,Testd])\n",
    "\n",
    "print('Raw Mutation rate: '+str(round(np.sum(Mutcounts[region])/np.sum(np.array(Testd)[region])*1e5,1))+' per 100kb')\n",
    "print('Mutation enrichment in AID-hotspots: '\\\n",
    "    +str(round(np.sum(Mutcounts[HotSpotsregion])/np.sum(Mutcounts[region])/(len(HotSpotsregion)/len(region)),2)))\n",
    "    "
   ]
  },
  {
   "cell_type": "markdown",
   "metadata": {},
   "source": [
    "### Compute processed mutation frequencies using DeMinEr Filter/error-correction steps"
   ]
  },
  {
   "cell_type": "code",
   "execution_count": null,
   "metadata": {
    "collapsed": false
   },
   "outputs": [],
   "source": [
    "TestF=filterTestvsControl(Test,Testd,CTRL1,CTRL2,sample,gene,region,t=3.29,foldChange=1.5)\n",
    "MutcountsF=TestF*np.transpose([Testd,Testd,Testd,Testd])\n",
    "\n",
    "print('Mutation rate: '+str(round(np.sum(MutcountsF[region])/np.sum(np.array(Testd)[region])*1e5,1))+' per 100kb')\n",
    "print('Mutation enrichment in AID-hotspots: '\\\n",
    "    +str(round(np.sum(MutcountsF[HotSpotsregion])/np.sum(MutcountsF[region])/(len(HotSpotsregion)/len(region)),2)))"
   ]
  },
  {
   "cell_type": "markdown",
   "metadata": {},
   "source": [
    "### Compute mutation profile (composition-corrected) from processed data"
   ]
  },
  {
   "cell_type": "code",
   "execution_count": null,
   "metadata": {
    "collapsed": false
   },
   "outputs": [],
   "source": [
    "mutationProfile=computeMutationProfile(MutcountsF,Testd,gene,region)\n",
    "for i in range(5):\n",
    "    print(\"\\t\".join([str(j) for j in mutationProfile[i]]))"
   ]
  },
  {
   "cell_type": "code",
   "execution_count": null,
   "metadata": {
    "collapsed": false
   },
   "outputs": [],
   "source": [
    "print('Raw mutation frequency in '+gene+' / '+sample)\n",
    "plotMutations(Test,Testd,gene,region,'Test_'+sample+'_raw',display=True)\n",
    "print('Processed mutation frequency in '+gene+' / '+sample)\n",
    "plotMutations(TestF,Testd,gene,region,'Test_'+sample+'_filter',display=True)"
   ]
  },
  {
   "cell_type": "markdown",
   "metadata": {
    "collapsed": false
   },
   "source": [
    "## Generate an all-in-one DeMinEr report"
   ]
  },
  {
   "cell_type": "markdown",
   "metadata": {},
   "source": [
    "(Required packages : wand, reportlab)"
   ]
  },
  {
   "cell_type": "code",
   "execution_count": null,
   "metadata": {
    "collapsed": false
   },
   "outputs": [],
   "source": [
    "from DeMinErReport import *\n",
    "DeMinEr2Report('WT-GC','AID-1','AID-2','Cd83m',region=range(100,1000,1))"
   ]
  },
  {
   "cell_type": "code",
   "execution_count": null,
   "metadata": {
    "collapsed": false
   },
   "outputs": [],
   "source": [
    "from DeMinErReport import *\n",
    "DeMinEr2Report('UNG-GC','AID-1','AID-2','Cd83m',region=range(100,1000,1))"
   ]
  },
  {
   "cell_type": "code",
   "execution_count": null,
   "metadata": {
    "collapsed": true
   },
   "outputs": [],
   "source": []
  }
 ],
 "metadata": {
  "kernelspec": {
   "display_name": "Python 3",
   "language": "python",
   "name": "python3"
  },
  "language_info": {
   "codemirror_mode": {
    "name": "ipython",
    "version": 3
   },
   "file_extension": ".py",
   "mimetype": "text/x-python",
   "name": "python",
   "nbconvert_exporter": "python",
   "pygments_lexer": "ipython3",
   "version": "3.5.3"
  }
 },
 "nbformat": 4,
 "nbformat_minor": 0
}
